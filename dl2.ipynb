{
 "cells": [
  {
   "cell_type": "code",
   "execution_count": 1,
   "metadata": {
    "id": "SFECsJs1mZzE"
   },
   "outputs": [
    {
     "ename": "ModuleNotFoundError",
     "evalue": "No module named 'tensorflow'",
     "output_type": "error",
     "traceback": [
      "\u001b[1;31m---------------------------------------------------------------------------\u001b[0m",
      "\u001b[1;31mModuleNotFoundError\u001b[0m                       Traceback (most recent call last)",
      "\u001b[1;32m~\\AppData\\Local\\Temp/ipykernel_24276/2147362132.py\u001b[0m in \u001b[0;36m<module>\u001b[1;34m\u001b[0m\n\u001b[0;32m      1\u001b[0m \u001b[1;32mimport\u001b[0m \u001b[0mnumpy\u001b[0m \u001b[1;32mas\u001b[0m \u001b[0mnp\u001b[0m\u001b[1;33m\u001b[0m\u001b[1;33m\u001b[0m\u001b[0m\n\u001b[1;32m----> 2\u001b[1;33m \u001b[1;32mfrom\u001b[0m \u001b[0mtensorflow\u001b[0m \u001b[1;32mimport\u001b[0m \u001b[0mkeras\u001b[0m\u001b[1;33m\u001b[0m\u001b[1;33m\u001b[0m\u001b[0m\n\u001b[0m\u001b[0;32m      3\u001b[0m \u001b[1;32mfrom\u001b[0m \u001b[0mtensorflow\u001b[0m\u001b[1;33m.\u001b[0m\u001b[0mkeras\u001b[0m\u001b[1;33m.\u001b[0m\u001b[0mdatasets\u001b[0m \u001b[1;32mimport\u001b[0m \u001b[0mimdb\u001b[0m\u001b[1;33m\u001b[0m\u001b[1;33m\u001b[0m\u001b[0m\n\u001b[0;32m      4\u001b[0m \u001b[1;32mfrom\u001b[0m \u001b[0mtensorflow\u001b[0m\u001b[1;33m.\u001b[0m\u001b[0mkeras\u001b[0m\u001b[1;33m.\u001b[0m\u001b[0mpreprocessing\u001b[0m\u001b[1;33m.\u001b[0m\u001b[0msequence\u001b[0m \u001b[1;32mimport\u001b[0m \u001b[0mpad_sequences\u001b[0m\u001b[1;33m\u001b[0m\u001b[1;33m\u001b[0m\u001b[0m\n\u001b[0;32m      5\u001b[0m \u001b[1;33m\u001b[0m\u001b[0m\n",
      "\u001b[1;31mModuleNotFoundError\u001b[0m: No module named 'tensorflow'"
     ]
    }
   ],
   "source": [
    "import numpy as np\n",
    "from tensorflow import keras\n",
    "from tensorflow.keras.datasets import imdb\n",
    "from tensorflow.keras.preprocessing.sequence import pad_sequences\n",
    "\n",
    "# Set the hyperparameters\n",
    "max_features = 10000  # Number of words to consider as features\n",
    "max_len = 200  # Maximum length of each sequence (in words)\n",
    "batch_size = 32\n",
    "epochs = 10\n",
    "\n",
    "# Load the IMDB dataset\n",
    "(X_train, y_train), (X_test, y_test) = imdb.load_data(num_words=max_features)\n",
    "\n",
    "# Pad the sequences to have a consistent length\n",
    "X_train = pad_sequences(X_train, maxlen=max_len)\n",
    "X_test = pad_sequences(X_test, maxlen=max_len)"
   ]
  },
  {
   "cell_type": "code",
   "execution_count": null,
   "metadata": {
    "colab": {
     "base_uri": "https://localhost:8080/"
    },
    "id": "hxxOxzeXnB52",
    "outputId": "0f695ea5-20cc-476f-ef39-fd5147ca15d6"
   },
   "outputs": [
    {
     "name": "stdout",
     "output_type": "stream",
     "text": [
      "Epoch 1/10\n",
      "782/782 [==============================] - 38s 48ms/step - loss: 0.3833 - accuracy: 0.8155 - val_loss: 0.3243 - val_accuracy: 0.8572\n",
      "Epoch 2/10\n",
      "782/782 [==============================] - 37s 47ms/step - loss: 0.0623 - accuracy: 0.9788 - val_loss: 0.4993 - val_accuracy: 0.8400\n",
      "Epoch 3/10\n",
      "782/782 [==============================] - 38s 49ms/step - loss: 0.0081 - accuracy: 0.9978 - val_loss: 0.6708 - val_accuracy: 0.8491\n",
      "Epoch 4/10\n",
      "782/782 [==============================] - 36s 46ms/step - loss: 8.5647e-04 - accuracy: 1.0000 - val_loss: 0.7097 - val_accuracy: 0.8550\n",
      "Epoch 5/10\n",
      "782/782 [==============================] - 36s 46ms/step - loss: 8.2243e-05 - accuracy: 1.0000 - val_loss: 0.7343 - val_accuracy: 0.8560\n",
      "Epoch 6/10\n",
      "782/782 [==============================] - 35s 45ms/step - loss: 4.1825e-05 - accuracy: 1.0000 - val_loss: 0.7535 - val_accuracy: 0.8563\n",
      "Epoch 7/10\n",
      "782/782 [==============================] - 37s 47ms/step - loss: 2.5442e-05 - accuracy: 1.0000 - val_loss: 0.7720 - val_accuracy: 0.8569\n",
      "Epoch 8/10\n",
      "782/782 [==============================] - 38s 48ms/step - loss: 1.6625e-05 - accuracy: 1.0000 - val_loss: 0.7908 - val_accuracy: 0.8574\n",
      "Epoch 9/10\n",
      "782/782 [==============================] - 39s 50ms/step - loss: 1.0947e-05 - accuracy: 1.0000 - val_loss: 0.8093 - val_accuracy: 0.8577\n",
      "Epoch 10/10\n",
      "782/782 [==============================] - 38s 48ms/step - loss: 7.3412e-06 - accuracy: 1.0000 - val_loss: 0.8285 - val_accuracy: 0.8578\n"
     ]
    },
    {
     "data": {
      "text/plain": [
       "<keras.callbacks.History at 0x7fa46000ee30>"
      ]
     },
     "execution_count": 2,
     "metadata": {},
     "output_type": "execute_result"
    }
   ],
   "source": [
    "# Create a sequential model with an embedding layer and two dense layers\n",
    "model = keras.Sequential([\n",
    "    keras.layers.Embedding(input_dim=max_features, output_dim=128, input_length=max_len),\n",
    "    keras.layers.Flatten(),\n",
    "    keras.layers.Dense(64, activation='relu'),\n",
    "    keras.layers.Dense(1, activation='sigmoid')\n",
    "])\n",
    "\n",
    "# Compile the model with binary crossentropy loss and adam optimizer\n",
    "model.compile(loss='binary_crossentropy', optimizer='adam', metrics=['accuracy'])\n",
    "\n",
    "# Train the model on the training data\n",
    "model.fit(X_train, y_train, batch_size=batch_size, epochs=epochs, validation_data=(X_test, y_test))"
   ]
  },
  {
   "cell_type": "code",
   "execution_count": null,
   "metadata": {
    "colab": {
     "base_uri": "https://localhost:8080/"
    },
    "id": "otMH2PNXnEVZ",
    "outputId": "4b05710c-7fea-427e-c103-ce466c7ee1bb"
   },
   "outputs": [
    {
     "name": "stdout",
     "output_type": "stream",
     "text": [
      "782/782 [==============================] - 4s 5ms/step - loss: 0.8285 - accuracy: 0.8578\n",
      "Test accuracy: 0.8578400015830994\n"
     ]
    }
   ],
   "source": [
    "# Evaluate the model on the testing data\n",
    "test_loss, test_acc = model.evaluate(X_test, y_test)\n",
    "\n",
    "# Print the test accuracy\n",
    "print('Test accuracy:', test_acc)\n"
   ]
  }
 ],
 "metadata": {
  "colab": {
   "provenance": []
  },
  "kernelspec": {
   "display_name": "Python 3 (ipykernel)",
   "language": "python",
   "name": "python3"
  },
  "language_info": {
   "codemirror_mode": {
    "name": "ipython",
    "version": 3
   },
   "file_extension": ".py",
   "mimetype": "text/x-python",
   "name": "python",
   "nbconvert_exporter": "python",
   "pygments_lexer": "ipython3",
   "version": "3.9.7"
  }
 },
 "nbformat": 4,
 "nbformat_minor": 4
}
