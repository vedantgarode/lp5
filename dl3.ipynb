{
 "cells": [
  {
   "cell_type": "code",
   "execution_count": 2,
   "metadata": {
    "id": "TReNjQqhsVwy",
    "tags": []
   },
   "outputs": [],
   "source": [
    "import tensorflow as tf\n",
    "from tensorflow import keras\n",
    "from tensorflow.keras.datasets import fashion_mnist\n",
    "from tensorflow.keras.models import Sequential\n",
    "from tensorflow.keras.layers import Conv2D, MaxPooling2D, Flatten, Dense, Dropout\n",
    "from tensorflow.keras.utils import to_categorical\n",
    "\n",
    "# Load the MNIST Fashion dataset\n",
    "(x_train, y_train), (x_test, y_test) = fashion_mnist.load_data()\n",
    "\n",
    "# Preprocess the data\n",
    "x_train = x_train.reshape(x_train.shape[0], 28, 28, 1) # Reshape to 28x28 grayscale images\n",
    "x_test = x_test.reshape(x_test.shape[0], 28, 28, 1)\n",
    "x_train = x_train.astype('float32') / 255 # Normalize pixel values to range [0, 1]\n",
    "x_test = x_test.astype('float32') / 255\n",
    "y_train = to_categorical(y_train, num_classes=10) # Convert labels to one-hot encoded vectors\n",
    "y_test = to_categorical(y_test, num_classes=10)"
   ]
  },
  {
   "cell_type": "code",
   "execution_count": 3,
   "metadata": {
    "colab": {
     "base_uri": "https://localhost:8080/",
     "height": 0
    },
    "id": "FjKFMG2gtQr5",
    "outputId": "b89e5567-cfea-4d9e-a5ff-f25856c20868",
    "tags": []
   },
   "outputs": [
    {
     "name": "stdout",
     "output_type": "stream",
     "text": [
      "Epoch 1/10\n",
      "469/469 [==============================] - 26s 53ms/step - loss: 0.6405 - accuracy: 0.7692 - val_loss: 0.4171 - val_accuracy: 0.8504\n",
      "Epoch 2/10\n",
      "469/469 [==============================] - 23s 50ms/step - loss: 0.4113 - accuracy: 0.8518 - val_loss: 0.3581 - val_accuracy: 0.8693\n",
      "Epoch 3/10\n",
      "469/469 [==============================] - 23s 50ms/step - loss: 0.3567 - accuracy: 0.8719 - val_loss: 0.3256 - val_accuracy: 0.8813\n",
      "Epoch 4/10\n",
      "469/469 [==============================] - 26s 56ms/step - loss: 0.3240 - accuracy: 0.8825 - val_loss: 0.2979 - val_accuracy: 0.8922\n",
      "Epoch 5/10\n",
      "469/469 [==============================] - 25s 54ms/step - loss: 0.2994 - accuracy: 0.8919 - val_loss: 0.2883 - val_accuracy: 0.8968\n",
      "Epoch 6/10\n",
      "469/469 [==============================] - 24s 51ms/step - loss: 0.2814 - accuracy: 0.8986 - val_loss: 0.2741 - val_accuracy: 0.8997\n",
      "Epoch 7/10\n",
      "469/469 [==============================] - 24s 52ms/step - loss: 0.2661 - accuracy: 0.9044 - val_loss: 0.2650 - val_accuracy: 0.9029\n",
      "Epoch 8/10\n",
      "469/469 [==============================] - 24s 52ms/step - loss: 0.2535 - accuracy: 0.9082 - val_loss: 0.2597 - val_accuracy: 0.9067\n",
      "Epoch 9/10\n",
      "469/469 [==============================] - 24s 51ms/step - loss: 0.2403 - accuracy: 0.9118 - val_loss: 0.2589 - val_accuracy: 0.9060\n",
      "Epoch 10/10\n",
      "469/469 [==============================] - 24s 51ms/step - loss: 0.2272 - accuracy: 0.9169 - val_loss: 0.2482 - val_accuracy: 0.9120\n"
     ]
    },
    {
     "data": {
      "text/plain": [
       "<keras.callbacks.History at 0x2e3803c78b0>"
      ]
     },
     "execution_count": 3,
     "metadata": {},
     "output_type": "execute_result"
    }
   ],
   "source": [
    "# Define the model architecture\n",
    "model = Sequential([\n",
    "    Conv2D(32, kernel_size=(3, 3), activation='relu', input_shape=(28, 28, 1)),\n",
    "    MaxPooling2D(pool_size=(2, 2)),\n",
    "    Conv2D(64, kernel_size=(3, 3), activation='relu'),\n",
    "    MaxPooling2D(pool_size=(2, 2)),\n",
    "    Flatten(),\n",
    "    Dense(128, activation='relu'),\n",
    "    Dropout(0.5),\n",
    "    Dense(10, activation='softmax')\n",
    "])\n",
    "\n",
    "# Compile the model\n",
    "model.compile(loss='categorical_crossentropy', optimizer='adam', metrics=['accuracy'])\n",
    "\n",
    "# Train the model\n",
    "model.fit(x_train, y_train, batch_size=128, epochs=10, validation_data=(x_test, y_test))\n"
   ]
  },
  {
   "cell_type": "code",
   "execution_count": 7,
   "metadata": {
    "colab": {
     "base_uri": "https://localhost:8080/",
     "height": 0
    },
    "id": "qX5llqbP3fBb",
    "outputId": "30b27b0d-4555-4e2b-ea98-461979c2e740",
    "tags": []
   },
   "outputs": [
    {
     "name": "stdout",
     "output_type": "stream",
     "text": [
      "313/313 [==============================] - 1s 4ms/step - loss: 0.2482 - accuracy: 0.9120\n",
      "Testing loss: 0.24823904037475586\n",
      "Testing accuracy: 0.9120000004768372\n",
      "313/313 [==============================] - 1s 4ms/step\n",
      "Sample predictions:\n"
     ]
    },
    {
     "ename": "NameError",
     "evalue": "name 'class_names' is not defined",
     "output_type": "error",
     "traceback": [
      "\u001b[1;31m---------------------------------------------------------------------------\u001b[0m",
      "\u001b[1;31mNameError\u001b[0m                                 Traceback (most recent call last)",
      "Cell \u001b[1;32mIn[7], line 14\u001b[0m\n\u001b[0;32m     12\u001b[0m predicted_label \u001b[38;5;241m=\u001b[39m predictions[i]\n\u001b[0;32m     13\u001b[0m actual_label \u001b[38;5;241m=\u001b[39m y_test[i]\n\u001b[1;32m---> 14\u001b[0m \u001b[38;5;28mprint\u001b[39m(\u001b[38;5;124m\"\u001b[39m\u001b[38;5;124mPredicted label:\u001b[39m\u001b[38;5;124m\"\u001b[39m, \u001b[43mclass_names\u001b[49m[predicted_label])\n\u001b[0;32m     15\u001b[0m \u001b[38;5;28mprint\u001b[39m(\u001b[38;5;124m\"\u001b[39m\u001b[38;5;124mActual label:\u001b[39m\u001b[38;5;124m\"\u001b[39m, class_names[actual_label])\n\u001b[0;32m     16\u001b[0m \u001b[38;5;28mprint\u001b[39m()\n",
      "\u001b[1;31mNameError\u001b[0m: name 'class_names' is not defined"
     ]
    }
   ],
   "source": [
    "# Evaluate the model on the testing set\n",
    "loss, accuracy = model.evaluate(x_test, y_test)\n",
    "print(\"Testing loss:\", loss)\n",
    "print(\"Testing accuracy:\", accuracy)\n",
    "\n",
    "# Make predictions\n",
    "predictions = model.predict(x_test)\n",
    "\n",
    "# Display sample predictions\n",
    "print(\"Sample predictions:\")\n",
    "for i in range(5):\n",
    "    predicted_label = predictions[i]\n",
    "    actual_label = y_test[i]\n",
    "    print(\"Predicted label:\", class_names[predicted_label])\n",
    "    print(\"Actual label:\", class_names[actual_label])\n",
    "    print()\n"
   ]
  },
  {
   "cell_type": "code",
   "execution_count": null,
   "metadata": {},
   "outputs": [],
   "source": []
  }
 ],
 "metadata": {
  "colab": {
   "provenance": []
  },
  "kernelspec": {
   "display_name": "Python 3 (ipykernel)",
   "language": "python",
   "name": "python3"
  },
  "language_info": {
   "codemirror_mode": {
    "name": "ipython",
    "version": 3
   },
   "file_extension": ".py",
   "mimetype": "text/x-python",
   "name": "python",
   "nbconvert_exporter": "python",
   "pygments_lexer": "ipython3",
   "version": "3.9.7"
  }
 },
 "nbformat": 4,
 "nbformat_minor": 4
}
