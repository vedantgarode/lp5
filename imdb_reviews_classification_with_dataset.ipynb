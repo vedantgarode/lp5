{
 "cells": [
  {
   "cell_type": "code",
   "execution_count": 1,
   "id": "2b9ef019-738f-441c-9ee1-5d5c063c7cd1",
   "metadata": {
    "tags": []
   },
   "outputs": [],
   "source": [
    "import pandas as pd\n",
    "import numpy as np\n",
    "from tensorflow import keras\n",
    "from tensorflow.keras.models import Sequential\n",
    "from tensorflow.keras.layers import Embedding, Dense, Flatten\n",
    "from tensorflow.keras.preprocessing.text import Tokenizer\n",
    "from tensorflow.keras.preprocessing.sequence import pad_sequences\n",
    "from sklearn.model_selection import train_test_split\n",
    "\n",
    "# Load the CSV file\n",
    "data = pd.read_csv(\"imdb_dataset.csv\")\n",
    "\n",
    "# Split the data into input (reviews) and output (sentiment) columns\n",
    "reviews = data[\"review\"]\n",
    "sentiments = data[\"sentiment\"]\n",
    "\n",
    "# Tokenize the text\n",
    "tokenizer = Tokenizer()\n",
    "tokenizer.fit_on_texts(reviews)\n",
    "sequences = tokenizer.texts_to_sequences(reviews)\n",
    "\n",
    "# Pad sequences to a fixed length\n",
    "max_length = 250\n",
    "X = pad_sequences(sequences, maxlen=max_length)\n",
    "\n",
    "# Convert sentiments to binary labels (0 for negative, 1 for positive)\n",
    "y = np.array([1 if sentiment == 'positive' else 0 for sentiment in sentiments])\n",
    "\n",
    "# Split the data into training and testing sets\n",
    "X_train, X_test, y_train, y_test = train_test_split(X, y, test_size=0.2, random_state=42)\n"
   ]
  },
  {
   "cell_type": "code",
   "execution_count": 2,
   "id": "9eb99e6f-88ed-47c0-b788-6cecbc9d7c53",
   "metadata": {},
   "outputs": [
    {
     "name": "stdout",
     "output_type": "stream",
     "text": [
      "Epoch 1/7\n",
      "625/625 [==============================] - 131s 209ms/step - loss: 0.3460 - accuracy: 0.8379 - val_loss: 0.2537 - val_accuracy: 0.8938\n",
      "Epoch 2/7\n",
      "625/625 [==============================] - 133s 212ms/step - loss: 0.0427 - accuracy: 0.9860 - val_loss: 0.3553 - val_accuracy: 0.8765\n",
      "Epoch 3/7\n",
      "625/625 [==============================] - 132s 212ms/step - loss: 0.0027 - accuracy: 0.9995 - val_loss: 0.4100 - val_accuracy: 0.8787\n",
      "Epoch 4/7\n",
      "625/625 [==============================] - 141s 225ms/step - loss: 2.4404e-04 - accuracy: 1.0000 - val_loss: 0.4275 - val_accuracy: 0.8807\n",
      "Epoch 5/7\n",
      "625/625 [==============================] - 145s 233ms/step - loss: 8.6007e-05 - accuracy: 1.0000 - val_loss: 0.4411 - val_accuracy: 0.8821\n",
      "Epoch 6/7\n",
      "625/625 [==============================] - 140s 224ms/step - loss: 5.1465e-05 - accuracy: 1.0000 - val_loss: 0.4561 - val_accuracy: 0.8833\n",
      "Epoch 7/7\n",
      "625/625 [==============================] - 134s 215ms/step - loss: 3.3087e-05 - accuracy: 1.0000 - val_loss: 0.4670 - val_accuracy: 0.8835\n",
      "313/313 [==============================] - 1s 3ms/step - loss: 0.4670 - accuracy: 0.8835\n",
      "Test loss: 0.4669923484325409\n",
      "Test accuracy: 0.8834999799728394\n",
      "1/1 [==============================] - 0s 84ms/step\n"
     ]
    }
   ],
   "source": [
    "# Build the model\n",
    "model = Sequential()\n",
    "model.add(Embedding(input_dim=len(tokenizer.word_index)+1, output_dim=128, input_length=max_length))\n",
    "model.add(Flatten())\n",
    "model.add(Dense(64, activation='relu'))\n",
    "model.add(Dense(1, activation='sigmoid'))\n",
    "\n",
    "# Compile the model\n",
    "model.compile(loss='binary_crossentropy', optimizer='adam', metrics=['accuracy'])\n",
    "\n",
    "# Train the model\n",
    "model.fit(X_train, y_train, batch_size=64, epochs=7, validation_data=(X_test, y_test))\n",
    "\n",
    "# Evaluate the model\n",
    "loss, accuracy = model.evaluate(X_test, y_test)\n",
    "print(\"Test loss:\", loss)\n",
    "print(\"Test accuracy:\", accuracy)\n",
    "\n",
    "# Make predictions\n",
    "predictions = model.predict(X_test[:5])\n"
   ]
  },
  {
   "cell_type": "code",
   "execution_count": 3,
   "id": "e094b55a-4d04-496a-a757-6cef92207aec",
   "metadata": {
    "tags": []
   },
   "outputs": [
    {
     "name": "stdout",
     "output_type": "stream",
     "text": [
      "Sample Predictions:\n",
      "\n",
      "Predicted Sentiment: Positive\n",
      "Actual Sentiment: Positive\n",
      "Review Text:\n",
      " One of the other reviewers has mentioned that after watching just 1 Oz episode you'll be hooked. They are right, as this is exactly what happened with me.  The first thing that struck me about Oz was its brutality and unflinching scenes of violence, which set in right from the word GO. Trust me, this is not a show for the faint hearted or timid. This show pulls no punches with regards to drugs, sex or violence. Its is hardcore, in the classic use of the word.  It is called OZ as that is the nickname given to the Oswald Maximum Security State Penitentary. It focuses mainly on Emerald City, an experimental section of the prison where all the cells have glass fronts and face inwards, so privacy is not high on the agenda. Em City is home to many..Aryans, Muslims, gangstas, Latinos, Christians, Italians, Irish and more....so scuffles, death stares, dodgy dealings and shady agreements are never far away.  I would say the main appeal of the show is due to the fact that it goes where other shows wouldn't dare. Forget pretty pictures painted for mainstream audiences, forget charm, forget romance...OZ doesn't mess around. The first episode I ever saw struck me as so nasty it was surreal, I couldn't say I was ready for it, but as I watched more, I developed a taste for Oz, and got accustomed to the high levels of graphic violence. Not just violence, but injustice (crooked guards who'll be sold out for a nickel, inmates who'll kill on order and get away with it, well mannered, middle class inmates being turned into prison bitches due to their lack of street skills or prison experience) Watching Oz, you may become comfortable with what is uncomfortable viewing....thats if you can get in touch with your darker side.\n",
      "\n",
      "Predicted Sentiment: Positive\n",
      "Actual Sentiment: Positive\n",
      "Review Text:\n",
      " A wonderful little production.   The filming technique is very unassuming- very old-time-BBC fashion and gives a comforting, and sometimes discomforting, sense of realism to the entire piece.   The actors are extremely well chosen- Michael Sheen not only \"has got all the polari\" but he has all the voices down pat too! You can truly see the seamless editing guided by the references to Williams' diary entries, not only is it well worth the watching but it is a terrificly written and performed piece. A masterful production about one of the great master's of comedy and his life.   The realism really comes home with the little things: the fantasy of the guard which, rather than use the traditional 'dream' techniques remains solid then disappears. It plays on our knowledge and our senses, particularly with the scenes concerning Orton and Halliwell and the sets (particularly of their flat with Halliwell's murals decorating every surface) are terribly well done.\n",
      "\n",
      "Predicted Sentiment: Negative\n",
      "Actual Sentiment: Negative\n",
      "Review Text:\n",
      " I thought this was a wonderful way to spend time on a too hot summer weekend, sitting in the air conditioned theater and watching a light-hearted comedy. The plot is simplistic, but the dialogue is witty and the characters are likable (even the well bread suspected serial killer). While some may be disappointed when they realize this is not Match Point 2: Risk Addiction, I thought it was proof that Woody Allen is still fully in control of the style many of us have grown to love.  This was the most I'd laughed at one of Woody's comedies in years (dare I say a decade?). While I've never been impressed with Scarlet Johanson, in this she managed to tone down her \"sexy\" image and jumped right into a average, but spirited young woman.  This may not be the crown jewel of his career, but it was wittier than \"Devil Wears Prada\" and more interesting than \"Superman\" a great comedy to go see with friends.\n",
      "\n",
      "Predicted Sentiment: Positive\n",
      "Actual Sentiment: Positive\n",
      "Review Text:\n",
      " Basically there's a family where a little boy (Jake) thinks there's a zombie in his closet & his parents are fighting all the time.  This movie is slower than a soap opera... and suddenly, Jake decides to become Rambo and kill the zombie.  OK, first of all when you're going to make a film you must Decide if its a thriller or a drama! As a drama the movie is watchable. Parents are divorcing & arguing like in real life. And then we have Jake with his closet which totally ruins all the film! I expected to see a BOOGEYMAN similar movie, and instead i watched a drama with some meaningless thriller spots.  3 out of 10 just for the well playing parents & descent dialogs. As for the shots with Jake: just ignore them.\n",
      "\n",
      "Predicted Sentiment: Negative\n",
      "Actual Sentiment: Negative\n",
      "Review Text:\n",
      " Petter Mattei's \"Love in the Time of Money\" is a visually stunning film to watch. Mr. Mattei offers us a vivid portrait about human relations. This is a movie that seems to be telling us what money, power and success do to people in the different situations we encounter.   This being a variation on the Arthur Schnitzler's play about the same theme, the director transfers the action to the present time New York where all these different characters meet and connect. Each one is connected in one way, or another to the next person, but no one seems to know the previous point of contact. Stylishly, the film has a sophisticated luxurious look. We are taken to see how these people live and the world they live in their own habitat.  The only thing one gets out of all these souls in the picture is the different stages of loneliness each one inhabits. A big city is not exactly the best place in which human relations find sincere fulfillment, as one discerns is the case with most of the people we encounter.  The acting is good under Mr. Mattei's direction. Steve Buscemi, Rosario Dawson, Carol Kane, Michael Imperioli, Adrian Grenier, and the rest of the talented cast, make these characters come alive.  We wish Mr. Mattei good luck and await anxiously for his next work.\n",
      "\n"
     ]
    }
   ],
   "source": [
    "# Display sample predictions and actual sentiments\n",
    "print(\"Sample Predictions:\\n\")\n",
    "for i in range(5):\n",
    "    predicted_sentiment = \"Positive\" if predictions[i] >= 0.5 else \"Negative\"\n",
    "    actual_sentiment = \"Positive\" if y_test[i] == 1 else \"Negative\"\n",
    "    print(\"Predicted Sentiment:\", predicted_sentiment)\n",
    "    print(\"Actual Sentiment:\", actual_sentiment)\n",
    "    review_text = reviews.iloc[i]\n",
    "    print(\"Review Text:\\n\", review_text)\n",
    "    print()"
   ]
  }
 ],
 "metadata": {
  "kernelspec": {
   "display_name": "Python 3 (ipykernel)",
   "language": "python",
   "name": "python3"
  },
  "language_info": {
   "codemirror_mode": {
    "name": "ipython",
    "version": 3
   },
   "file_extension": ".py",
   "mimetype": "text/x-python",
   "name": "python",
   "nbconvert_exporter": "python",
   "pygments_lexer": "ipython3",
   "version": "3.10.10"
  }
 },
 "nbformat": 4,
 "nbformat_minor": 5
}
